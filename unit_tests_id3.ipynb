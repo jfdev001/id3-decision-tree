{
 "cells": [
  {
   "cell_type": "code",
   "execution_count": 12,
   "metadata": {},
   "outputs": [],
   "source": [
    "import numpy as np\n",
    "import pandas as pd\n",
    "import math\n",
    "\n",
    "from id3 import ID3DecisionTree"
   ]
  },
  {
   "cell_type": "markdown",
   "metadata": {},
   "source": [
    "# Helper Functions"
   ]
  },
  {
   "cell_type": "code",
   "execution_count": 18,
   "metadata": {},
   "outputs": [],
   "source": [
    "def matrix_of_attrs_belonging_to_labels(attr_label_arr):\n",
    "    \"\"\"Computes matrix matching p_i, n_i, ... for any number of values.\n",
    "\n",
    "    The notation p_i and n_i is from \n",
    "    https://hunch.net/~coms-4771/quinlan.pdf\n",
    "\n",
    "    :param attr_label_arr: 2D <class 'numpy.ndarray'> where the first column\n",
    "        is the attribute and the values that the attribute can take \n",
    "        on while the second column is the labels (classification)\n",
    "        for each value of the attribute.\n",
    "\n",
    "    :return: <class 'list'> of <class 'list'>\n",
    "    \"\"\"\n",
    "    \n",
    "    # Compute the unique discrete values that the attributes can\n",
    "    # take on\n",
    "    unique_attr_values = np.unique(attr_label_arr[:, 0])\n",
    "\n",
    "    # Compute the unique discrete values that the labels can\n",
    "    # take on\n",
    "    unique_label_values = np.unique(attr_label_arr[:, 1])\n",
    "\n",
    "    # A matrix with 1 row for each discrete value the attribute\n",
    "    # can take on and 1 column for each discrete value the \n",
    "    # label can take on. This data structure holds the counts\n",
    "    # of each attribute value that matches the discrete label value\n",
    "    # Example, \n",
    "    # ['overcast' 'rain' 'sunny'] for labels = {0, 1}\n",
    "    # outlook [[0, 4], [2, 3], [3, 2]]\n",
    "    # This means that the outlook attribute which can take on 3 discrete\n",
    "    # values has 0 overcast days that are also labeled 0, while it has \n",
    "    # 4 overcast days that are also labeled 1.\n",
    "    attr_label_count_matrix = []\n",
    "\n",
    "    # Iterate through each unique value of the attributes\n",
    "    # and count the occurences for which the attribute value \n",
    "    # is unique value AND the label is a unique value of that label\n",
    "    for unique_attr_value in unique_attr_values:\n",
    "        counts = []\n",
    "        for unique_label_value in unique_label_values:\n",
    "            # Boolean vector... elements are True where condition\n",
    "            # holds, False otherwise\n",
    "            match_vector = np.logical_and(\n",
    "                attr_label_arr[:, 0] == unique_attr_value, \n",
    "                attr_label_arr[:, 1] == unique_label_value)\n",
    "\n",
    "            # Non-zero means the instances in which the condition is True\n",
    "            match_count = np.count_nonzero(match_vector)\n",
    "\n",
    "            # Append the value to the counts list\n",
    "            counts.append(match_count)\n",
    "\n",
    "        # Append the counts list to the parent matrix\n",
    "        attr_label_count_matrix.append(counts)\n",
    "\n",
    "    # Resulting matrix\n",
    "    return attr_label_count_matrix"
   ]
  },
  {
   "cell_type": "markdown",
   "metadata": {},
   "source": [
    "# Instantiate Tree"
   ]
  },
  {
   "cell_type": "code",
   "execution_count": 14,
   "metadata": {},
   "outputs": [],
   "source": [
    "# Instantiate tree\n",
    "tree = ID3DecisionTree(X=None, y=None)"
   ]
  },
  {
   "cell_type": "markdown",
   "metadata": {},
   "source": [
    "# Load Example Data"
   ]
  },
  {
   "cell_type": "code",
   "execution_count": 15,
   "metadata": {},
   "outputs": [],
   "source": [
    "df = pd.read_excel('sample_data.xlsx')"
   ]
  },
  {
   "cell_type": "code",
   "execution_count": 16,
   "metadata": {},
   "outputs": [
    {
     "data": {
      "text/html": [
       "<div>\n",
       "<style scoped>\n",
       "    .dataframe tbody tr th:only-of-type {\n",
       "        vertical-align: middle;\n",
       "    }\n",
       "\n",
       "    .dataframe tbody tr th {\n",
       "        vertical-align: top;\n",
       "    }\n",
       "\n",
       "    .dataframe thead th {\n",
       "        text-align: right;\n",
       "    }\n",
       "</style>\n",
       "<table border=\"1\" class=\"dataframe\">\n",
       "  <thead>\n",
       "    <tr style=\"text-align: right;\">\n",
       "      <th></th>\n",
       "      <th>outlook</th>\n",
       "      <th>temperature</th>\n",
       "      <th>humidity</th>\n",
       "      <th>windy</th>\n",
       "      <th>class</th>\n",
       "    </tr>\n",
       "  </thead>\n",
       "  <tbody>\n",
       "    <tr>\n",
       "      <th>0</th>\n",
       "      <td>sunny</td>\n",
       "      <td>hot</td>\n",
       "      <td>high</td>\n",
       "      <td>False</td>\n",
       "      <td>N</td>\n",
       "    </tr>\n",
       "    <tr>\n",
       "      <th>1</th>\n",
       "      <td>sunny</td>\n",
       "      <td>hot</td>\n",
       "      <td>high</td>\n",
       "      <td>True</td>\n",
       "      <td>N</td>\n",
       "    </tr>\n",
       "    <tr>\n",
       "      <th>2</th>\n",
       "      <td>overcast</td>\n",
       "      <td>hot</td>\n",
       "      <td>high</td>\n",
       "      <td>False</td>\n",
       "      <td>P</td>\n",
       "    </tr>\n",
       "    <tr>\n",
       "      <th>3</th>\n",
       "      <td>rain</td>\n",
       "      <td>mild</td>\n",
       "      <td>high</td>\n",
       "      <td>False</td>\n",
       "      <td>P</td>\n",
       "    </tr>\n",
       "    <tr>\n",
       "      <th>4</th>\n",
       "      <td>rain</td>\n",
       "      <td>cool</td>\n",
       "      <td>normal</td>\n",
       "      <td>False</td>\n",
       "      <td>P</td>\n",
       "    </tr>\n",
       "    <tr>\n",
       "      <th>5</th>\n",
       "      <td>rain</td>\n",
       "      <td>cool</td>\n",
       "      <td>normal</td>\n",
       "      <td>True</td>\n",
       "      <td>N</td>\n",
       "    </tr>\n",
       "    <tr>\n",
       "      <th>6</th>\n",
       "      <td>overcast</td>\n",
       "      <td>cool</td>\n",
       "      <td>normal</td>\n",
       "      <td>True</td>\n",
       "      <td>P</td>\n",
       "    </tr>\n",
       "    <tr>\n",
       "      <th>7</th>\n",
       "      <td>sunny</td>\n",
       "      <td>mild</td>\n",
       "      <td>high</td>\n",
       "      <td>False</td>\n",
       "      <td>N</td>\n",
       "    </tr>\n",
       "    <tr>\n",
       "      <th>8</th>\n",
       "      <td>sunny</td>\n",
       "      <td>cool</td>\n",
       "      <td>normal</td>\n",
       "      <td>False</td>\n",
       "      <td>P</td>\n",
       "    </tr>\n",
       "    <tr>\n",
       "      <th>9</th>\n",
       "      <td>rain</td>\n",
       "      <td>mild</td>\n",
       "      <td>normal</td>\n",
       "      <td>False</td>\n",
       "      <td>P</td>\n",
       "    </tr>\n",
       "    <tr>\n",
       "      <th>10</th>\n",
       "      <td>sunny</td>\n",
       "      <td>mild</td>\n",
       "      <td>normal</td>\n",
       "      <td>True</td>\n",
       "      <td>P</td>\n",
       "    </tr>\n",
       "    <tr>\n",
       "      <th>11</th>\n",
       "      <td>overcast</td>\n",
       "      <td>mild</td>\n",
       "      <td>high</td>\n",
       "      <td>True</td>\n",
       "      <td>P</td>\n",
       "    </tr>\n",
       "    <tr>\n",
       "      <th>12</th>\n",
       "      <td>overcast</td>\n",
       "      <td>hot</td>\n",
       "      <td>normal</td>\n",
       "      <td>False</td>\n",
       "      <td>P</td>\n",
       "    </tr>\n",
       "    <tr>\n",
       "      <th>13</th>\n",
       "      <td>rain</td>\n",
       "      <td>mild</td>\n",
       "      <td>high</td>\n",
       "      <td>True</td>\n",
       "      <td>N</td>\n",
       "    </tr>\n",
       "  </tbody>\n",
       "</table>\n",
       "</div>"
      ],
      "text/plain": [
       "     outlook temperature humidity  windy class\n",
       "0      sunny         hot     high  False     N\n",
       "1      sunny         hot     high   True     N\n",
       "2   overcast         hot     high  False     P\n",
       "3       rain        mild     high  False     P\n",
       "4       rain        cool   normal  False     P\n",
       "5       rain        cool   normal   True     N\n",
       "6   overcast        cool   normal   True     P\n",
       "7      sunny        mild     high  False     N\n",
       "8      sunny        cool   normal  False     P\n",
       "9       rain        mild   normal  False     P\n",
       "10     sunny        mild   normal   True     P\n",
       "11  overcast        mild     high   True     P\n",
       "12  overcast         hot   normal  False     P\n",
       "13      rain        mild     high   True     N"
      ]
     },
     "execution_count": 16,
     "metadata": {},
     "output_type": "execute_result"
    }
   ],
   "source": [
    "df"
   ]
  },
  {
   "cell_type": "code",
   "execution_count": 19,
   "metadata": {},
   "outputs": [
    {
     "data": {
      "text/plain": [
       "array([['sunny', 'N'],\n",
       "       ['sunny', 'N'],\n",
       "       ['overcast', 'P'],\n",
       "       ['rain', 'P'],\n",
       "       ['rain', 'P'],\n",
       "       ['rain', 'N'],\n",
       "       ['overcast', 'P'],\n",
       "       ['sunny', 'N'],\n",
       "       ['sunny', 'P'],\n",
       "       ['rain', 'P'],\n",
       "       ['sunny', 'P'],\n",
       "       ['overcast', 'P'],\n",
       "       ['overcast', 'P'],\n",
       "       ['rain', 'N']], dtype=object)"
      ]
     },
     "metadata": {},
     "output_type": "display_data"
    },
    {
     "name": "stdout",
     "output_type": "stream",
     "text": [
      "['overcast' 'rain' 'sunny']\n",
      "['N' 'P']\n",
      "[[0, 4], [2, 3], [3, 2]]\n"
     ]
    }
   ],
   "source": [
    "# Testing helper function\n",
    "outlook_class_arr = df[['outlook', 'class']].to_numpy()\n",
    "display(outlook_class_arr)\n",
    "\n",
    "matrix_of_attrs_belonging_to_labels(outlook_class_arr)"
   ]
  },
  {
   "cell_type": "code",
   "execution_count": 5,
   "metadata": {},
   "outputs": [
    {
     "data": {
      "text/plain": [
       "0.9709505944546686"
      ]
     },
     "execution_count": 5,
     "metadata": {},
     "output_type": "execute_result"
    }
   ],
   "source": [
    "tree.entropy([3, 2])"
   ]
  },
  {
   "cell_type": "code",
   "execution_count": 6,
   "metadata": {},
   "outputs": [
    {
     "data": {
      "text/plain": [
       "0.6935361388961918"
      ]
     },
     "execution_count": 6,
     "metadata": {},
     "output_type": "execute_result"
    }
   ],
   "source": [
    "tree.expected_information(label_counts=[9, 5], attr_counts=[[0, 4], [2, 3], [3, 2]])"
   ]
  },
  {
   "cell_type": "code",
   "execution_count": 7,
   "metadata": {},
   "outputs": [
    {
     "data": {
      "text/plain": [
       "0.2467498197744391"
      ]
     },
     "execution_count": 7,
     "metadata": {},
     "output_type": "execute_result"
    }
   ],
   "source": [
    "# information gain for outlook\n",
    "tree.information_gain(tree.entropy([9, 5]), \n",
    "    tree.expected_information(\n",
    "        label_counts=[9, 5], attr_counts=[[0, 4], [2, 3], [3, 2]]))"
   ]
  },
  {
   "cell_type": "code",
   "execution_count": 32,
   "metadata": {},
   "outputs": [
    {
     "name": "stdout",
     "output_type": "stream",
     "text": [
      "(5, 2)\n"
     ]
    },
    {
     "data": {
      "text/plain": [
       "array([[0.68, 1.  ],\n",
       "       [0.72, 1.  ],\n",
       "       [0.87, 0.  ],\n",
       "       [0.9 , 0.  ],\n",
       "       [0.91, 0.  ]])"
      ]
     },
     "metadata": {},
     "output_type": "display_data"
    }
   ],
   "source": [
    "# 3.3. Dealing with Continuous Valued Data\n",
    "outlook_sunny_arr = np.array(\n",
    "    [[0.68, 1], \n",
    "    [0.72, 1], \n",
    "    [0.87, 0], \n",
    "    [0.9, 0], \n",
    "    [0.91, 0]]) \n",
    "    #[0.93, 'o']])\n",
    "print(outlook_sunny_arr.shape)\n",
    "display(outlook_sunny_arr)"
   ]
  },
  {
   "cell_type": "code",
   "execution_count": 34,
   "metadata": {},
   "outputs": [
    {
     "name": "stdout",
     "output_type": "stream",
     "text": [
      "[(1, 2)]\n",
      "0.7949999999999999\n",
      "[[0.72 1.  ]\n",
      " [0.87 0.  ]]\n",
      "\n"
     ]
    }
   ],
   "source": [
    "# To pick thresholds, find all indices for which \n",
    "# the class (contained in the left most column) differ between\n",
    "# adjacent rows\n",
    "threshold_tup_indices = []\n",
    "for row in range(len(outlook_sunny_arr)-1):\n",
    "    cur_label = outlook_sunny_arr[row, -1]\n",
    "    next_label = outlook_sunny_arr[row+1, -1]\n",
    "    if cur_label != next_label:\n",
    "        threshold_tup_indices.append((row, row+1))\n",
    "\n",
    "print(threshold_tup_indices)\n",
    "for threshold_ix in threshold_tup_indices:\n",
    "    bin_ = (outlook_sunny_arr[threshold_ix[0], 0] \\\n",
    "        + outlook_sunny_arr[threshold_ix[1], 0]) / 2\n",
    "\n",
    "    print(bin_)\n",
    "    print(outlook_sunny_arr[threshold_ix[0]: threshold_ix[1]+1])\n",
    "    print()"
   ]
  },
  {
   "cell_type": "code",
   "execution_count": 38,
   "metadata": {},
   "outputs": [
    {
     "name": "stdout",
     "output_type": "stream",
     "text": [
      "[[1. 1.]\n",
      " [1. 1.]\n",
      " [0. 0.]\n",
      " [0. 0.]\n",
      " [0. 0.]]\n"
     ]
    }
   ],
   "source": [
    "# Bin data -- > and <=, should be reversed for open lab\n",
    "bin_ = 0.795\n",
    "discretized_outlook_sunny_arr = outlook_sunny_arr.copy()\n",
    "for ix, row in enumerate(outlook_sunny_arr):\n",
    "    if row[0] > bin_:\n",
    "        discretized_outlook_sunny_arr[ix, 0] = 0\n",
    "    else:\n",
    "        discretized_outlook_sunny_arr[ix, 0] = 1\n",
    "\n",
    "print(discretized_outlook_sunny_arr)"
   ]
  },
  {
   "cell_type": "code",
   "execution_count": null,
   "metadata": {},
   "outputs": [
    {
     "name": "stdout",
     "output_type": "stream",
     "text": [
      "['N' 'P']\n",
      "['overcast' 'rain' 'sunny']\n",
      "outlook [[0, 4], [2, 3], [3, 2]]\n",
      "['cool' 'hot' 'mild']\n",
      "temperature [[1, 3], [2, 2], [2, 4]]\n",
      "['high' 'normal']\n",
      "humidity [[4, 3], [1, 6]]\n",
      "[False  True]\n",
      "windy [[2, 6], [3, 3]]\n"
     ]
    }
   ],
   "source": [
    "unique_class_labels = np.unique(df['class'])\n",
    "print(unique_class_labels)\n",
    "for col in df.columns[:-1]:\n",
    "    col_arr = df[[col, 'class']].to_numpy()\n",
    "    unique_col_values = np.unique(df[col])\n",
    "    print(unique_col_values)\n",
    "    n_i = []\n",
    "    for unique_val in unique_col_values:\n",
    "        pairs = []\n",
    "        for unique_label in unique_class_labels:\n",
    "            pairs.append(\n",
    "                np.count_nonzero(\n",
    "                    np.logical_and(col_arr[:, 0] == unique_val, col_arr[:, 1] == unique_label)))\n",
    "        n_i.append(pairs)\n",
    "\n",
    "    print(col, n_i)"
   ]
  },
  {
   "cell_type": "code",
   "execution_count": null,
   "metadata": {},
   "outputs": [
    {
     "name": "stdout",
     "output_type": "stream",
     "text": [
      "[['sunny' 1]\n",
      " ['sunny' 1]\n",
      " ['sunny' 1]\n",
      " ['sunny' 1]\n",
      " ['sunny' 1]\n",
      " ['overcast' 1]\n",
      " ['overcast' 1]\n",
      " ['overcast' 1]\n",
      " ['overcast' 1]\n",
      " ['rain' 0]\n",
      " ['rain' 0]\n",
      " ['rain' 0]\n",
      " ['rain' 0]\n",
      " ['rain' 0]]\n"
     ]
    },
    {
     "data": {
      "text/plain": [
       "4"
      ]
     },
     "execution_count": 33,
     "metadata": {},
     "output_type": "execute_result"
    }
   ],
   "source": [
    "simple_arr = arr[:, [0, -1]]\n",
    "print(simple_arr)\n",
    "np.count_nonzero(np.logical_and(simple_arr[:, 0] == 'overcast', \n",
    "    simple_arr[:, 1] == 1))"
   ]
  },
  {
   "cell_type": "code",
   "execution_count": null,
   "metadata": {},
   "outputs": [
    {
     "data": {
      "text/plain": [
       "0.9402859586706309"
      ]
     },
     "execution_count": 7,
     "metadata": {},
     "output_type": "execute_result"
    }
   ],
   "source": [
    "tree.information(labels_counts)"
   ]
  },
  {
   "cell_type": "code",
   "execution_count": null,
   "metadata": {},
   "outputs": [],
   "source": []
  }
 ],
 "metadata": {
  "interpreter": {
   "hash": "07f0aceed467d0cbae7569fecdfaec78063cba8e23481668ef588a8de6eba6e0"
  },
  "kernelspec": {
   "display_name": "Python 3.9.6 64-bit ('blue-mars': conda)",
   "language": "python",
   "name": "python3"
  },
  "language_info": {
   "codemirror_mode": {
    "name": "ipython",
    "version": 3
   },
   "file_extension": ".py",
   "mimetype": "text/x-python",
   "name": "python",
   "nbconvert_exporter": "python",
   "pygments_lexer": "ipython3",
   "version": "3.9.6"
  },
  "orig_nbformat": 4
 },
 "nbformat": 4,
 "nbformat_minor": 2
}

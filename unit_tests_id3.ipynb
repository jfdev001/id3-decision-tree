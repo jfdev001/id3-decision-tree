{
 "cells": [
  {
   "cell_type": "code",
   "execution_count": 11,
   "metadata": {},
   "outputs": [],
   "source": [
    "import numpy as np\n",
    "import pandas as pd\n",
    "import math\n",
    "\n",
    "from id3 import ID3DecisionTree"
   ]
  },
  {
   "cell_type": "code",
   "execution_count": 14,
   "metadata": {},
   "outputs": [
    {
     "data": {
      "text/plain": [
       "(array([0, 1]), array([4, 1], dtype=int64))"
      ]
     },
     "execution_count": 14,
     "metadata": {},
     "output_type": "execute_result"
    }
   ],
   "source": [
    "unique_arr = [0, 0, 0, 0, 1]\n",
    "np.unique(unique_arr, return_counts=True)"
   ]
  },
  {
   "cell_type": "markdown",
   "metadata": {},
   "source": [
    "# Classes"
   ]
  },
  {
   "cell_type": "markdown",
   "metadata": {},
   "source": [
    "# Helper Functions"
   ]
  },
  {
   "cell_type": "code",
   "execution_count": 2,
   "metadata": {},
   "outputs": [],
   "source": [
    "def matrix_of_attrs_belonging_to_labels(attr_label_arr):\n",
    "    \"\"\"Computes matrix matching p_i, n_i, ... for any number of values.\n",
    "\n",
    "    The notation p_i and n_i is from \n",
    "    https://hunch.net/~coms-4771/quinlan.pdf\n",
    "\n",
    "    :param attr_label_arr: 2D <class 'numpy.ndarray'> where the first column\n",
    "        is the attribute and the values that the attribute can take \n",
    "        on while the second column is the labels (classification)\n",
    "        for each value of the attribute.\n",
    "\n",
    "    :return: <class 'list'> of <class 'list'>\n",
    "    \"\"\"\n",
    "    \n",
    "    # Compute the unique discrete values that the attributes can\n",
    "    # take on\n",
    "    unique_attr_values = np.unique(attr_label_arr[:, 0])\n",
    "\n",
    "    # Compute the unique discrete values that the labels can\n",
    "    # take on\n",
    "    unique_label_values = np.unique(attr_label_arr[:, 1])\n",
    "\n",
    "    # A matrix with 1 row for each discrete value the attribute\n",
    "    # can take on and 1 column for each discrete value the \n",
    "    # label can take on. This data structure holds the counts\n",
    "    # of each attribute value that matches the discrete label value\n",
    "    # Example, \n",
    "    # ['overcast' 'rain' 'sunny'] for labels = {0, 1}\n",
    "    # outlook [[0, 4], [2, 3], [3, 2]]\n",
    "    # This means that the outlook attribute which can take on 3 discrete\n",
    "    # values has 0 overcast days that are also labeled 0, while it has \n",
    "    # 4 overcast days that are also labeled 1.\n",
    "    attr_label_count_matrix = []\n",
    "\n",
    "    # Iterate through each unique value of the attributes\n",
    "    # and count the occurences for which the attribute value \n",
    "    # is unique value AND the label is a unique value of that label\n",
    "    for unique_attr_value in unique_attr_values:\n",
    "        counts = []\n",
    "        for unique_label_value in unique_label_values:\n",
    "            # Boolean vector... elements are True where condition\n",
    "            # holds, False otherwise\n",
    "            match_vector = np.logical_and(\n",
    "                attr_label_arr[:, 0] == unique_attr_value, \n",
    "                attr_label_arr[:, 1] == unique_label_value)\n",
    "\n",
    "            # Non-zero means the instances in which the condition is True\n",
    "            match_count = np.count_nonzero(match_vector)\n",
    "\n",
    "            # Append the value to the counts list\n",
    "            counts.append(match_count)\n",
    "\n",
    "        # Append the counts list to the parent matrix\n",
    "        attr_label_count_matrix.append(counts)\n",
    "\n",
    "    # Resulting matrix\n",
    "    return attr_label_count_matrix\n",
    "\n",
    "def discretize_continuous_data(attr_label_arr, return_bins=False):\n",
    "    \"\"\"Converts continuous attributes to discrete valued array.\"\"\"\n",
    "    \n",
    "    threshold_indices = get_threshold_indices(attr_label_arr)\n",
    "    discretized_arr, bins = get_binned_arrs(attr_label_arr, threshold_indices, return_bins)\n",
    "\n",
    "    if return_bins:\n",
    "        return discretized_arr, bins\n",
    "    else:\n",
    "        return discretized_arr\n",
    "\n",
    "def get_threshold_indices(attr_label_arr):\n",
    "    \"\"\"Returns list of indices where adjacent labels differ.\n",
    "    \n",
    "    Array should be sorted.\n",
    "    \"\"\"\n",
    "\n",
    "    # Check sorted\n",
    "    if attr_label_arr[0, 0] > attr_label_arr[1, 0]:\n",
    "      raise ValueError(':param attr_label_arr: must be sorted')\n",
    "\n",
    "    threshold_tup_indices = []\n",
    "\n",
    "    for row in range(len(attr_label_arr)-1):\n",
    "        cur_label = attr_label_arr[row, -1]\n",
    "        next_label = attr_label_arr[row+1, -1]\n",
    "        \n",
    "        if cur_label != next_label:\n",
    "            threshold_tup_indices.append((row, row+1))\n",
    "\n",
    "    return threshold_tup_indices\n",
    "\n",
    "def get_binned_arrs(attr_label_arr, threshold_indices, return_bins):\n",
    "    \"\"\"Use thresholds to bin the sorted data.\"\"\"\n",
    "\n",
    "    # Compute the bins\n",
    "    bins = []\n",
    "    for threshold_ix in threshold_indices:\n",
    "        bin_ = (attr_label_arr[threshold_ix[0], 0] \\\n",
    "            + attr_label_arr[threshold_ix[1], 0]) / 2\n",
    "        bins.append(bin_)\n",
    "\n",
    "    # Discretize the data into binned arrs\n",
    "    lst_of_discretized_arrs = []\n",
    "    for b in bins:\n",
    "        # Binary thresholds\n",
    "        discretized_attr_label_arr = attr_label_arr.copy()\n",
    "        for ix, row in enumerate(outlook_sunny_arr):\n",
    "\n",
    "            # attr > bin_ or can be framed as attr >= bin_\n",
    "            if row[0] > b:\n",
    "                discretized_attr_label_arr[ix, 0] = 0\n",
    "            else:\n",
    "                discretized_attr_label_arr[ix, 0] = 1\n",
    "\n",
    "        lst_of_discretized_arrs.append(discretized_attr_label_arr)\n",
    "\n",
    "    if return_bins:\n",
    "        return lst_of_discretized_arrs, bins\n",
    "    else:\n",
    "        return lst_of_discretized_arrs\n",
    "\n",
    "def sort_arr(attr_label_arr):\n",
    "    \"\"\"Sorts the array and keeps labels lined up.\"\"\"\n",
    "\n",
    "    sorted_attr_indices = np.argsort(attr_label_arr[:, 0])\n",
    "    attr_label_arr = attr_label_arr[sorted_attr_indices, :]\n",
    "    return attr_label_arr"
   ]
  },
  {
   "cell_type": "markdown",
   "metadata": {},
   "source": [
    "# Instantiate Tree"
   ]
  },
  {
   "cell_type": "code",
   "execution_count": 3,
   "metadata": {},
   "outputs": [],
   "source": [
    "# Instantiate tree\n",
    "tree = ID3DecisionTree(X=None, y=None)"
   ]
  },
  {
   "cell_type": "markdown",
   "metadata": {},
   "source": [
    "# Load Example Data"
   ]
  },
  {
   "cell_type": "code",
   "execution_count": 4,
   "metadata": {},
   "outputs": [],
   "source": [
    "df = pd.read_excel('sample_data.xlsx')"
   ]
  },
  {
   "cell_type": "code",
   "execution_count": 5,
   "metadata": {},
   "outputs": [
    {
     "data": {
      "text/html": [
       "<div>\n",
       "<style scoped>\n",
       "    .dataframe tbody tr th:only-of-type {\n",
       "        vertical-align: middle;\n",
       "    }\n",
       "\n",
       "    .dataframe tbody tr th {\n",
       "        vertical-align: top;\n",
       "    }\n",
       "\n",
       "    .dataframe thead th {\n",
       "        text-align: right;\n",
       "    }\n",
       "</style>\n",
       "<table border=\"1\" class=\"dataframe\">\n",
       "  <thead>\n",
       "    <tr style=\"text-align: right;\">\n",
       "      <th></th>\n",
       "      <th>outlook</th>\n",
       "      <th>temperature</th>\n",
       "      <th>humidity</th>\n",
       "      <th>windy</th>\n",
       "      <th>class</th>\n",
       "    </tr>\n",
       "  </thead>\n",
       "  <tbody>\n",
       "    <tr>\n",
       "      <th>0</th>\n",
       "      <td>sunny</td>\n",
       "      <td>hot</td>\n",
       "      <td>high</td>\n",
       "      <td>False</td>\n",
       "      <td>N</td>\n",
       "    </tr>\n",
       "    <tr>\n",
       "      <th>1</th>\n",
       "      <td>sunny</td>\n",
       "      <td>hot</td>\n",
       "      <td>high</td>\n",
       "      <td>True</td>\n",
       "      <td>N</td>\n",
       "    </tr>\n",
       "    <tr>\n",
       "      <th>2</th>\n",
       "      <td>overcast</td>\n",
       "      <td>hot</td>\n",
       "      <td>high</td>\n",
       "      <td>False</td>\n",
       "      <td>P</td>\n",
       "    </tr>\n",
       "    <tr>\n",
       "      <th>3</th>\n",
       "      <td>rain</td>\n",
       "      <td>mild</td>\n",
       "      <td>high</td>\n",
       "      <td>False</td>\n",
       "      <td>P</td>\n",
       "    </tr>\n",
       "    <tr>\n",
       "      <th>4</th>\n",
       "      <td>rain</td>\n",
       "      <td>cool</td>\n",
       "      <td>normal</td>\n",
       "      <td>False</td>\n",
       "      <td>P</td>\n",
       "    </tr>\n",
       "    <tr>\n",
       "      <th>5</th>\n",
       "      <td>rain</td>\n",
       "      <td>cool</td>\n",
       "      <td>normal</td>\n",
       "      <td>True</td>\n",
       "      <td>N</td>\n",
       "    </tr>\n",
       "    <tr>\n",
       "      <th>6</th>\n",
       "      <td>overcast</td>\n",
       "      <td>cool</td>\n",
       "      <td>normal</td>\n",
       "      <td>True</td>\n",
       "      <td>P</td>\n",
       "    </tr>\n",
       "    <tr>\n",
       "      <th>7</th>\n",
       "      <td>sunny</td>\n",
       "      <td>mild</td>\n",
       "      <td>high</td>\n",
       "      <td>False</td>\n",
       "      <td>N</td>\n",
       "    </tr>\n",
       "    <tr>\n",
       "      <th>8</th>\n",
       "      <td>sunny</td>\n",
       "      <td>cool</td>\n",
       "      <td>normal</td>\n",
       "      <td>False</td>\n",
       "      <td>P</td>\n",
       "    </tr>\n",
       "    <tr>\n",
       "      <th>9</th>\n",
       "      <td>rain</td>\n",
       "      <td>mild</td>\n",
       "      <td>normal</td>\n",
       "      <td>False</td>\n",
       "      <td>P</td>\n",
       "    </tr>\n",
       "    <tr>\n",
       "      <th>10</th>\n",
       "      <td>sunny</td>\n",
       "      <td>mild</td>\n",
       "      <td>normal</td>\n",
       "      <td>True</td>\n",
       "      <td>P</td>\n",
       "    </tr>\n",
       "    <tr>\n",
       "      <th>11</th>\n",
       "      <td>overcast</td>\n",
       "      <td>mild</td>\n",
       "      <td>high</td>\n",
       "      <td>True</td>\n",
       "      <td>P</td>\n",
       "    </tr>\n",
       "    <tr>\n",
       "      <th>12</th>\n",
       "      <td>overcast</td>\n",
       "      <td>hot</td>\n",
       "      <td>normal</td>\n",
       "      <td>False</td>\n",
       "      <td>P</td>\n",
       "    </tr>\n",
       "    <tr>\n",
       "      <th>13</th>\n",
       "      <td>rain</td>\n",
       "      <td>mild</td>\n",
       "      <td>high</td>\n",
       "      <td>True</td>\n",
       "      <td>N</td>\n",
       "    </tr>\n",
       "  </tbody>\n",
       "</table>\n",
       "</div>"
      ],
      "text/plain": [
       "     outlook temperature humidity  windy class\n",
       "0      sunny         hot     high  False     N\n",
       "1      sunny         hot     high   True     N\n",
       "2   overcast         hot     high  False     P\n",
       "3       rain        mild     high  False     P\n",
       "4       rain        cool   normal  False     P\n",
       "5       rain        cool   normal   True     N\n",
       "6   overcast        cool   normal   True     P\n",
       "7      sunny        mild     high  False     N\n",
       "8      sunny        cool   normal  False     P\n",
       "9       rain        mild   normal  False     P\n",
       "10     sunny        mild   normal   True     P\n",
       "11  overcast        mild     high   True     P\n",
       "12  overcast         hot   normal  False     P\n",
       "13      rain        mild     high   True     N"
      ]
     },
     "execution_count": 5,
     "metadata": {},
     "output_type": "execute_result"
    }
   ],
   "source": [
    "df"
   ]
  },
  {
   "cell_type": "code",
   "execution_count": 6,
   "metadata": {},
   "outputs": [
    {
     "data": {
      "text/plain": [
       "array([['sunny', 'N'],\n",
       "       ['sunny', 'N'],\n",
       "       ['overcast', 'P'],\n",
       "       ['rain', 'P'],\n",
       "       ['rain', 'P'],\n",
       "       ['rain', 'N'],\n",
       "       ['overcast', 'P'],\n",
       "       ['sunny', 'N'],\n",
       "       ['sunny', 'P'],\n",
       "       ['rain', 'P'],\n",
       "       ['sunny', 'P'],\n",
       "       ['overcast', 'P'],\n",
       "       ['overcast', 'P'],\n",
       "       ['rain', 'N']], dtype=object)"
      ]
     },
     "metadata": {},
     "output_type": "display_data"
    },
    {
     "data": {
      "text/plain": [
       "[[0, 4], [2, 3], [3, 2]]"
      ]
     },
     "execution_count": 6,
     "metadata": {},
     "output_type": "execute_result"
    }
   ],
   "source": [
    "# Testing helper function\n",
    "outlook_class_arr = df[['outlook', 'class']].to_numpy()\n",
    "display(outlook_class_arr)\n",
    "\n",
    "matrix_of_attrs_belonging_to_labels(outlook_class_arr)"
   ]
  },
  {
   "cell_type": "code",
   "execution_count": 7,
   "metadata": {},
   "outputs": [
    {
     "data": {
      "text/plain": [
       "0.9709505944546686"
      ]
     },
     "execution_count": 7,
     "metadata": {},
     "output_type": "execute_result"
    }
   ],
   "source": [
    "tree.entropy([3, 2])"
   ]
  },
  {
   "cell_type": "code",
   "execution_count": 8,
   "metadata": {},
   "outputs": [
    {
     "data": {
      "text/plain": [
       "0.6935361388961918"
      ]
     },
     "execution_count": 8,
     "metadata": {},
     "output_type": "execute_result"
    }
   ],
   "source": [
    "tree.expected_information(label_counts=[9, 5], attr_counts=[[0, 4], [2, 3], [3, 2]])"
   ]
  },
  {
   "cell_type": "code",
   "execution_count": 9,
   "metadata": {},
   "outputs": [
    {
     "data": {
      "text/plain": [
       "0.2467498197744391"
      ]
     },
     "execution_count": 9,
     "metadata": {},
     "output_type": "execute_result"
    }
   ],
   "source": [
    "# information gain for outlook\n",
    "tree.information_gain(tree.entropy([9, 5]), \n",
    "    tree.expected_information(\n",
    "        label_counts=[9, 5], attr_counts=[[0, 4], [2, 3], [3, 2]]))"
   ]
  },
  {
   "cell_type": "markdown",
   "metadata": {},
   "source": [
    "# Algorithm\n",
    "1. E(classification)\n",
    "2. For each feature <br/>\n",
    "2.1. Discretize if not already discrete <br/>\n",
    "2.2. Calculate Expected Information Gain w.r.t classification <br/>\n",
    "2.3. Calculate information gain for the feature and store in list <br/>\n",
    "3. argmax[lst_of_feature_info_gains]\n",
    "4. Repeat\n",
    "    "
   ]
  },
  {
   "cell_type": "markdown",
   "metadata": {},
   "source": [
    "# Full Algorithm on Only Categorical Dataset\n",
    "https://iq.opengenus.org/id3-algorithm/"
   ]
  },
  {
   "cell_type": "code",
   "execution_count": 10,
   "metadata": {},
   "outputs": [
    {
     "name": "stdout",
     "output_type": "stream",
     "text": [
      "outlook : 0.2467498197744391\n",
      "temperature : 0.029222565658954647\n",
      "humidity : 0.15183550136234136\n",
      "windy : 0.04812703040826927\n"
     ]
    }
   ],
   "source": [
    "# Convert df to arr\n",
    "arr = df.to_numpy()\n",
    "\n",
    "labels_vector = arr[:, -1]\n",
    "\n",
    "# Entropy of whole set\n",
    "_, unique_label_counts = np.unique(labels_vector, return_counts=True)\n",
    "entropy_s = tree.entropy(unique_label_counts)\n",
    "\n",
    "# List to hold information gain\n",
    "information_gain_lst = []\n",
    "\n",
    "# Iterate through features (last ix is label)\n",
    "for feature in range(df.shape[1] - 1):\n",
    "\n",
    "    # Compute the number of discrete values of a given feature\n",
    "    # that belong to each of the discrete values of the label\n",
    "    attr_label_count_matrix = tree.matrix_of_attrs_belonging_to_labels(arr[:, [feature, -1]])\n",
    "\n",
    "    # Compute the expected information\n",
    "    expected_information = tree.expected_information(unique_label_counts, attr_label_count_matrix)\n",
    "\n",
    "    # Compute the information gain\n",
    "    information_gain = tree.information_gain(entropy_s, expected_information)\n",
    "\n",
    "    # Append to the list of information gains\n",
    "    information_gain_lst.append(information_gain)\n",
    "\n",
    "    # Log information gains\n",
    "    print(df.columns[feature], ':', information_gain)\n",
    "\n",
    "# Select attribute with maximum information gain\n",
    "\n",
    "# Check to see if pure class\n",
    "\n",
    "# Call the function again except now with regard to one of \n",
    "# values that the selected attribute can take on\n"
   ]
  },
  {
   "cell_type": "markdown",
   "metadata": {},
   "source": [
    "## Data is First Sorted"
   ]
  },
  {
   "cell_type": "code",
   "execution_count": 50,
   "metadata": {},
   "outputs": [
    {
     "name": "stdout",
     "output_type": "stream",
     "text": [
      "(5, 2)\n"
     ]
    },
    {
     "data": {
      "text/plain": [
       "array([[0.9 , 0.  ],\n",
       "       [0.72, 1.  ],\n",
       "       [0.87, 0.  ],\n",
       "       [0.68, 1.  ],\n",
       "       [0.91, 0.  ]])"
      ]
     },
     "metadata": {},
     "output_type": "display_data"
    },
    {
     "data": {
      "text/plain": [
       "array([[0.68, 1.  ],\n",
       "       [0.72, 1.  ],\n",
       "       [0.87, 0.  ],\n",
       "       [0.9 , 0.  ],\n",
       "       [0.91, 0.  ]])"
      ]
     },
     "metadata": {},
     "output_type": "display_data"
    }
   ],
   "source": [
    "# 3.3. Dealing with Continuous Valued Data\n",
    "outlook_sunny_arr = np.array(\n",
    "    [[0.9, 0], \n",
    "    [0.72, 1], \n",
    "    [0.87, 0], \n",
    "    [0.68, 1], \n",
    "    [0.91, 0]])\n",
    "    # [0.93, 2]]) # optional for observing multiple thresholds\n",
    "\n",
    "# Print before sorting\n",
    "print(outlook_sunny_arr.shape)\n",
    "display(outlook_sunny_arr)\n",
    "\n",
    "# Sort data\n",
    "outlook_sunny_arr = sort_arr(outlook_sunny_arr)\n",
    "\n",
    "# After sorting\n",
    "display(outlook_sunny_arr)"
   ]
  },
  {
   "cell_type": "markdown",
   "metadata": {},
   "source": [
    "## Discretize data (assume continuous?)"
   ]
  },
  {
   "cell_type": "code",
   "execution_count": 51,
   "metadata": {},
   "outputs": [
    {
     "data": {
      "text/plain": [
       "[0.7949999999999999]"
      ]
     },
     "metadata": {},
     "output_type": "display_data"
    },
    {
     "data": {
      "text/plain": [
       "[array([[1., 1.],\n",
       "        [1., 1.],\n",
       "        [0., 0.],\n",
       "        [0., 0.],\n",
       "        [0., 0.]])]"
      ]
     },
     "metadata": {},
     "output_type": "display_data"
    }
   ],
   "source": [
    "# Discretize the above data based on the paper\n",
    "discrete_outlook_sunny_data, bins = discretize_continuous_data(outlook_sunny_arr, True)\n",
    "display(bins)\n",
    "display(discrete_outlook_sunny_data)"
   ]
  },
  {
   "cell_type": "markdown",
   "metadata": {},
   "source": [
    "## Expected information gain"
   ]
  },
  {
   "cell_type": "code",
   "execution_count": 52,
   "metadata": {},
   "outputs": [
    {
     "name": "stdout",
     "output_type": "stream",
     "text": [
      "The 0 discrete attr has 3 instances that belong to the 0 label\n"
     ]
    },
    {
     "data": {
      "text/plain": [
       "[[3, 0], [0, 2]]"
      ]
     },
     "metadata": {},
     "output_type": "display_data"
    }
   ],
   "source": [
    "for discrete_arr in discrete_outlook_sunny_data:\n",
    "    attr_count_matrix_outlook_sunny_data = matrix_of_attrs_belonging_to_labels(discrete_arr)\n",
    "    print('The 0 discrete attr has 3 instances that belong to the 0 label')\n",
    "    display(attr_count_matrix_outlook_sunny_data)"
   ]
  },
  {
   "cell_type": "code",
   "execution_count": 53,
   "metadata": {},
   "outputs": [
    {
     "data": {
      "text/plain": [
       "[[[3, 0], [0, 2]]]"
      ]
     },
     "execution_count": 53,
     "metadata": {},
     "output_type": "execute_result"
    }
   ],
   "source": [
    "# Cleaner code\n",
    "discrete_count_lst = [\n",
    "    matrix_of_attrs_belonging_to_labels(discrete_arr) \n",
    "    for discrete_arr in discrete_outlook_sunny_data]\n",
    "\n",
    "discrete_count_lst"
   ]
  },
  {
   "cell_type": "markdown",
   "metadata": {},
   "source": [
    "## Calculate whichever split pattern yields the best information gain"
   ]
  },
  {
   "cell_type": "code",
   "execution_count": 54,
   "metadata": {},
   "outputs": [
    {
     "name": "stdout",
     "output_type": "stream",
     "text": [
      "label counts for subset: [3 2]\n",
      "entropy of subset: 0.9709505944546686\n",
      "expected information gain based on splitting: [0.0]\n",
      "information gain [0.9709505944546686]\n"
     ]
    }
   ],
   "source": [
    "# Is label counts wrt to the whole set or just the subset???\n",
    "# based on \"implementation of ID3\", it is respect\n",
    "# to subset\n",
    "_, label_counts_for_subset = np.unique(discrete_arr[:, 1], return_counts=True)\n",
    "entropy_of_subset = tree.entropy(label_counts_for_subset)\n",
    "print('label counts for subset:', label_counts_for_subset)\n",
    "print('entropy of subset:', entropy_of_subset)\n",
    "\n",
    "expected_information_lst = [\n",
    "    tree.expected_information(label_counts_for_subset, attr_counts) \n",
    "    for attr_counts in discrete_count_lst]\n",
    "\n",
    "print('expected information gain based on splitting:', expected_information_lst)\n",
    "\n",
    "print('information gain', [\n",
    "    tree.information_gain(entropy_of_subset, expect_info_gain) \n",
    "    for expect_info_gain in expected_information_lst])"
   ]
  },
  {
   "cell_type": "markdown",
   "metadata": {},
   "source": [
    "# Misc"
   ]
  },
  {
   "cell_type": "code",
   "execution_count": 20,
   "metadata": {},
   "outputs": [
    {
     "data": {
      "text/plain": [
       "array([[0.68, 1.  ],\n",
       "       [0.72, 1.  ],\n",
       "       [0.87, 0.  ],\n",
       "       [0.9 , 0.  ],\n",
       "       [0.91, 0.  ]])"
      ]
     },
     "execution_count": 20,
     "metadata": {},
     "output_type": "execute_result"
    }
   ],
   "source": [
    "unsorted_outlook_sunny_arr = np.array(\n",
    "    [[0.9, 0], \n",
    "    [0.72, 1], \n",
    "    [0.87, 0], \n",
    "    [0.68, 1], \n",
    "    [0.91, 0]]) \n",
    "\n",
    "sorted_rows = np.argsort(unsorted_outlook_sunny_arr[:, 0], )\n",
    "unsorted_outlook_sunny_arr[sorted_rows, :]"
   ]
  },
  {
   "cell_type": "code",
   "execution_count": 34,
   "metadata": {},
   "outputs": [
    {
     "name": "stdout",
     "output_type": "stream",
     "text": [
      "[(1, 2)]\n",
      "0.7949999999999999\n",
      "[[0.72 1.  ]\n",
      " [0.87 0.  ]]\n",
      "\n"
     ]
    }
   ],
   "source": [
    "# To pick thresholds, find all indices for which \n",
    "# the class (contained in the left most column) differ between\n",
    "# adjacent rows\n",
    "threshold_tup_indices = []\n",
    "for row in range(len(outlook_sunny_arr)-1):\n",
    "    cur_label = outlook_sunny_arr[row, -1]\n",
    "    next_label = outlook_sunny_arr[row+1, -1]\n",
    "    if cur_label != next_label:\n",
    "        threshold_tup_indices.append((row, row+1))\n",
    "\n",
    "print(threshold_tup_indices)\n",
    "for threshold_ix in threshold_tup_indices:\n",
    "    bin_ = (outlook_sunny_arr[threshold_ix[0], 0] \\\n",
    "        + outlook_sunny_arr[threshold_ix[1], 0]) / 2\n",
    "\n",
    "    print(bin_)\n",
    "    print(outlook_sunny_arr[threshold_ix[0]: threshold_ix[1]+1])\n",
    "    print()"
   ]
  },
  {
   "cell_type": "code",
   "execution_count": 38,
   "metadata": {},
   "outputs": [
    {
     "name": "stdout",
     "output_type": "stream",
     "text": [
      "[[1. 1.]\n",
      " [1. 1.]\n",
      " [0. 0.]\n",
      " [0. 0.]\n",
      " [0. 0.]]\n"
     ]
    }
   ],
   "source": [
    "# Bin data -- > and <=, should be reversed for open lab\n",
    "bin_ = 0.795\n",
    "discretized_outlook_sunny_arr = outlook_sunny_arr.copy()\n",
    "for ix, row in enumerate(outlook_sunny_arr):\n",
    "    if row[0] > bin_:\n",
    "        discretized_outlook_sunny_arr[ix, 0] = 0\n",
    "    else:\n",
    "        discretized_outlook_sunny_arr[ix, 0] = 1\n",
    "\n",
    "print(discretized_outlook_sunny_arr)"
   ]
  },
  {
   "cell_type": "code",
   "execution_count": null,
   "metadata": {},
   "outputs": [
    {
     "name": "stdout",
     "output_type": "stream",
     "text": [
      "['N' 'P']\n",
      "['overcast' 'rain' 'sunny']\n",
      "outlook [[0, 4], [2, 3], [3, 2]]\n",
      "['cool' 'hot' 'mild']\n",
      "temperature [[1, 3], [2, 2], [2, 4]]\n",
      "['high' 'normal']\n",
      "humidity [[4, 3], [1, 6]]\n",
      "[False  True]\n",
      "windy [[2, 6], [3, 3]]\n"
     ]
    }
   ],
   "source": [
    "unique_class_labels = np.unique(df['class'])\n",
    "print(unique_class_labels)\n",
    "for col in df.columns[:-1]:\n",
    "    col_arr = df[[col, 'class']].to_numpy()\n",
    "    unique_col_values = np.unique(df[col])\n",
    "    print(unique_col_values)\n",
    "    n_i = []\n",
    "    for unique_val in unique_col_values:\n",
    "        pairs = []\n",
    "        for unique_label in unique_class_labels:\n",
    "            pairs.append(\n",
    "                np.count_nonzero(\n",
    "                    np.logical_and(col_arr[:, 0] == unique_val, col_arr[:, 1] == unique_label)))\n",
    "        n_i.append(pairs)\n",
    "\n",
    "    print(col, n_i)"
   ]
  },
  {
   "cell_type": "code",
   "execution_count": null,
   "metadata": {},
   "outputs": [
    {
     "name": "stdout",
     "output_type": "stream",
     "text": [
      "[['sunny' 1]\n",
      " ['sunny' 1]\n",
      " ['sunny' 1]\n",
      " ['sunny' 1]\n",
      " ['sunny' 1]\n",
      " ['overcast' 1]\n",
      " ['overcast' 1]\n",
      " ['overcast' 1]\n",
      " ['overcast' 1]\n",
      " ['rain' 0]\n",
      " ['rain' 0]\n",
      " ['rain' 0]\n",
      " ['rain' 0]\n",
      " ['rain' 0]]\n"
     ]
    },
    {
     "data": {
      "text/plain": [
       "4"
      ]
     },
     "execution_count": 33,
     "metadata": {},
     "output_type": "execute_result"
    }
   ],
   "source": [
    "simple_arr = arr[:, [0, -1]]\n",
    "print(simple_arr)\n",
    "np.count_nonzero(np.logical_and(simple_arr[:, 0] == 'overcast', \n",
    "    simple_arr[:, 1] == 1))"
   ]
  },
  {
   "cell_type": "code",
   "execution_count": null,
   "metadata": {},
   "outputs": [
    {
     "data": {
      "text/plain": [
       "0.9402859586706309"
      ]
     },
     "execution_count": 7,
     "metadata": {},
     "output_type": "execute_result"
    }
   ],
   "source": [
    "tree.information(labels_counts)"
   ]
  },
  {
   "cell_type": "code",
   "execution_count": null,
   "metadata": {},
   "outputs": [],
   "source": []
  }
 ],
 "metadata": {
  "interpreter": {
   "hash": "07f0aceed467d0cbae7569fecdfaec78063cba8e23481668ef588a8de6eba6e0"
  },
  "kernelspec": {
   "display_name": "Python 3.9.6 64-bit ('blue-mars': conda)",
   "language": "python",
   "name": "python3"
  },
  "language_info": {
   "codemirror_mode": {
    "name": "ipython",
    "version": 3
   },
   "file_extension": ".py",
   "mimetype": "text/x-python",
   "name": "python",
   "nbconvert_exporter": "python",
   "pygments_lexer": "ipython3",
   "version": "3.9.6"
  },
  "orig_nbformat": 4
 },
 "nbformat": 4,
 "nbformat_minor": 2
}
